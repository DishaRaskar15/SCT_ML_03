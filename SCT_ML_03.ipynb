{
 "cells": [
  {
   "cell_type": "code",
   "execution_count": 1,
   "id": "e56df804-21e1-4970-b2e6-9743e7924ccf",
   "metadata": {},
   "outputs": [
    {
     "name": "stdout",
     "output_type": "stream",
     "text": [
      "✅ Data Summary:\n",
      "Total Cat Images: 5\n",
      "Total Dog Images: 4\n",
      "Total Images: 9\n",
      "Shape of each image vector: (4096,)\n",
      "Labels (0 = Cat, 1 = Dog): [0 0 0 0 0 1 1 1 1]\n",
      "\n",
      "✅ Predictions vs Actual:\n",
      "Image 1: Actual: Cat, Predicted: Cat\n",
      "Image 2: Actual: Cat, Predicted: Cat\n",
      "Image 3: Actual: Cat, Predicted: Cat\n",
      "Image 4: Actual: Cat, Predicted: Cat\n",
      "Image 5: Actual: Cat, Predicted: Cat\n",
      "Image 6: Actual: Dog, Predicted: Dog\n",
      "Image 7: Actual: Dog, Predicted: Dog\n",
      "Image 8: Actual: Dog, Predicted: Dog\n",
      "Image 9: Actual: Dog, Predicted: Dog\n"
     ]
    },
    {
     "data": {
      "image/png": "[encoded data removed]",
      "text/plain": [
       "<Figure size 640x480 with 2 Axes>"
      ]
     },
     "metadata": {},
     "output_type": "display_data"
    }
   ],
   "source": [
    "import os\n",
    "import numpy as np\n",
    "from sklearn.svm import SVC\n",
    "from sklearn.metrics import confusion_matrix, ConfusionMatrixDisplay\n",
    "import matplotlib.pyplot as plt\n",
    "from PIL import Image\n",
    "import joblib\n",
    "\n",
    "# Function to load and process images\n",
    "def load_images_from_folder(folder, label, image_size=(64, 64)):\n",
    "    data = []\n",
    "    labels = []\n",
    "    for filename in os.listdir(folder):\n",
    "        img_path = os.path.join(folder, filename)\n",
    "        try:\n",
    "            img = Image.open(img_path).convert('L')  # grayscale\n",
    "            img = img.resize(image_size)\n",
    "            img_array = np.array(img).flatten()\n",
    "            data.append(img_array)\n",
    "            labels.append(label)\n",
    "        except Exception as e:\n",
    "            print(f\"Skipped {filename}: {e}\")\n",
    "    return data, labels\n",
    "\n",
    "# ✅ Update with correct absolute paths\n",
    "cat_dir = \"C:/Users/Admin/Documents/dataset/cats\"\n",
    "dog_dir = \"C:/Users/Admin/Documents/dataset/dogs\"\n",
    "\n",
    "# Load images\n",
    "cat_data, cat_labels = load_images_from_folder(cat_dir, label=0)\n",
    "dog_data, dog_labels = load_images_from_folder(dog_dir, label=1)\n",
    "\n",
    "# Combine data and labels\n",
    "X = np.array(cat_data + dog_data)\n",
    "y = np.array(cat_labels + dog_labels)\n",
    "\n",
    "# 💡 Print summary before training\n",
    "print(\"✅ Data Summary:\")\n",
    "print(f\"Total Cat Images: {len(cat_data)}\")\n",
    "print(f\"Total Dog Images: {len(dog_data)}\")\n",
    "print(f\"Total Images: {len(X)}\")\n",
    "print(\"Shape of each image vector:\", X[0].shape)\n",
    "print(\"Labels (0 = Cat, 1 = Dog):\", y)\n",
    "\n",
    "# Train SVM model\n",
    "model = SVC(kernel='linear', probability=True)\n",
    "model.fit(X, y)\n",
    "\n",
    "# Save model\n",
    "joblib.dump(model, \"svc_model.pkl\")\n",
    "\n",
    "# Load and predict\n",
    "model = joblib.load(\"svc_model.pkl\")\n",
    "y_pred = model.predict(X)\n",
    "\n",
    "# 💡 Print prediction results\n",
    "print(\"\\n✅ Predictions vs Actual:\")\n",
    "for i in range(len(y)):\n",
    "    print(f\"Image {i+1}: Actual: {'Cat' if y[i]==0 else 'Dog'}, Predicted: {'Cat' if y_pred[i]==0 else 'Dog'}\")\n",
    "\n",
    "# Plot confusion matrix\n",
    "cm = confusion_matrix(y, y_pred)\n",
    "disp = ConfusionMatrixDisplay(confusion_matrix=cm, display_labels=[\"Cat\", \"Dog\"])\n",
    "disp.plot(cmap=plt.cm.Blues)\n",
    "plt.title(\"Confusion Matrix - Cats vs Dogs\")\n",
    "plt.show()\n"
   ]
  },
  {
   "cell_type": "code",
   "execution_count": null,
   "id": "b391bca7-9eb6-4ad4-9d2d-2c306fd77153",
   "metadata": {},
   "outputs": [],
   "source": []
  }
 ],
 "metadata": {
  "kernelspec": {
   "display_name": "Python [conda env:base] *",
   "language": "python",
   "name": "conda-base-py"
  },
  "language_info": {
   "codemirror_mode": {
    "name": "ipython",
    "version": 3
   },
   "file_extension": ".py",
   "mimetype": "text/x-python",
   "name": "python",
   "nbconvert_exporter": "python",
   "pygments_lexer": "ipython3",
   "version": "3.12.7"
  }
 },
 "nbformat": 4,
 "nbformat_minor": 5
}
